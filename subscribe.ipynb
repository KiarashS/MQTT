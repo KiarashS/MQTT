{
 "cells": [
  {
   "cell_type": "code",
   "execution_count": 13,
   "metadata": {},
   "outputs": [],
   "source": [
    "#pip3 install paho-mqtt"
   ]
  },
  {
   "cell_type": "markdown",
   "metadata": {},
   "source": [
    "# Import the Paho MQTT Client"
   ]
  },
  {
   "cell_type": "code",
   "execution_count": 14,
   "metadata": {},
   "outputs": [],
   "source": [
    "# python 3.12.0\n",
    "\n",
    "import random\n",
    "import time\n",
    "\n",
    "from paho.mqtt import client as mqtt_client\n"
   ]
  },
  {
   "cell_type": "markdown",
   "metadata": {},
   "source": [
    "The accessing information of the broker is as follows:\n",
    "\n",
    "Broker: broker.emqx.io\n",
    "\n",
    "TCP Port: 1883\n",
    "\n",
    "Websocket Port: 8083"
   ]
  },
  {
   "cell_type": "markdown",
   "metadata": {},
   "source": [
    "# Set the Parameter of MQTT Broker Connection\n",
    "Set the address, port and topic of MQTT Broker connection. At the same time, we call the Python function `random.randint` to randomly generate the MQTT client id."
   ]
  },
  {
   "cell_type": "code",
   "execution_count": 15,
   "metadata": {},
   "outputs": [],
   "source": [
    "broker = 'broker.emqx.io'\n",
    "port = 1883\n",
    "topic = \"/Kiarash/mqtt\"\n",
    "client_id = f'Kiarash-mqtt-{random.randint(0, 100)}'\n",
    "username = 'emqx'\n",
    "password = 'public'"
   ]
  },
  {
   "cell_type": "markdown",
   "metadata": {},
   "source": [
    "# Write the MQTT Connect Function\n",
    "Write the connect callback function `on_connect`. This function will be called after connecting the client, and we can determine whether the client is connected successfully according to `rc` in this function. Usually, we will create an MQTT client at the same time and this client will connect to `broker.emqx.io`.\n"
   ]
  },
  {
   "cell_type": "code",
   "execution_count": 16,
   "metadata": {},
   "outputs": [],
   "source": [
    "def subscribe_connect_mqtt() -> mqtt_client:\n",
    "    def on_connect(client, userdata, flags, rc):\n",
    "        if rc == 0:\n",
    "            print(\"Connected to MQTT Broker!\")\n",
    "        else:\n",
    "            print(\"Failed to connect, return code %d\\n\", rc)\n",
    "\n",
    "    client = mqtt_client.Client(client_id)\n",
    "    client.username_pw_set(username, password)\n",
    "    client.on_connect = on_connect\n",
    "    client.connect(broker, port)\n",
    "    return client"
   ]
  },
  {
   "cell_type": "markdown",
   "metadata": {},
   "source": [
    "# Subscribe\n",
    "Write the message callback function `on_message`. This function will be called after the client received messages from the MQTT Broker. In this function, we will print out the name of subscribed topics and the received messages."
   ]
  },
  {
   "cell_type": "code",
   "execution_count": 17,
   "metadata": {},
   "outputs": [],
   "source": [
    "def subscribe(client: mqtt_client):\n",
    "    def on_message(client, userdata, msg):\n",
    "        print(f\"Received `{msg.payload.decode()}` from `{msg.topic}` topic\")\n",
    "\n",
    "    client.subscribe(topic)\n",
    "    client.on_message = on_message"
   ]
  },
  {
   "cell_type": "code",
   "execution_count": 18,
   "metadata": {},
   "outputs": [
    {
     "name": "stdout",
     "output_type": "stream",
     "text": [
      "Connected to MQTT Broker!\n",
      "Received `messages: 1` from `/Kiarash/mqtt` topic\n",
      "Received `messages: 2` from `/Kiarash/mqtt` topic\n",
      "Received `messages: 3` from `/Kiarash/mqtt` topic\n",
      "Received `messages: 4` from `/Kiarash/mqtt` topic\n",
      "Received `messages: 5` from `/Kiarash/mqtt` topic\n",
      "Received `messages: 6` from `/Kiarash/mqtt` topic\n",
      "Received `messages: 7` from `/Kiarash/mqtt` topic\n",
      "Received `messages: 8` from `/Kiarash/mqtt` topic\n",
      "Received `messages: 9` from `/Kiarash/mqtt` topic\n",
      "Received `messages: 10` from `/Kiarash/mqtt` topic\n",
      "Received `messages: 11` from `/Kiarash/mqtt` topic\n",
      "Received `messages: 12` from `/Kiarash/mqtt` topic\n"
     ]
    },
    {
     "ename": "KeyboardInterrupt",
     "evalue": "",
     "output_type": "error",
     "traceback": [
      "\u001b[1;31m---------------------------------------------------------------------------\u001b[0m",
      "\u001b[1;31mKeyboardInterrupt\u001b[0m                         Traceback (most recent call last)",
      "\u001b[1;32md:\\My Work\\Projects\\MQTT\\subscribe.ipynb Cell 11\u001b[0m line \u001b[0;36m3\n\u001b[0;32m      <a href='vscode-notebook-cell:/d%3A/My%20Work/Projects/MQTT/subscribe.ipynb#X21sZmlsZQ%3D%3D?line=0'>1</a>\u001b[0m subscribe_client \u001b[39m=\u001b[39m subscribe_connect_mqtt()\n\u001b[0;32m      <a href='vscode-notebook-cell:/d%3A/My%20Work/Projects/MQTT/subscribe.ipynb#X21sZmlsZQ%3D%3D?line=1'>2</a>\u001b[0m subscribe(subscribe_client)\n\u001b[1;32m----> <a href='vscode-notebook-cell:/d%3A/My%20Work/Projects/MQTT/subscribe.ipynb#X21sZmlsZQ%3D%3D?line=2'>3</a>\u001b[0m subscribe_client\u001b[39m.\u001b[39;49mloop_forever()\n",
      "File \u001b[1;32mc:\\Users\\KIA\\AppData\\Local\\Programs\\Python\\Python312\\Lib\\site-packages\\paho\\mqtt\\client.py:1756\u001b[0m, in \u001b[0;36mClient.loop_forever\u001b[1;34m(self, timeout, max_packets, retry_first_connection)\u001b[0m\n\u001b[0;32m   1754\u001b[0m rc \u001b[39m=\u001b[39m MQTT_ERR_SUCCESS\n\u001b[0;32m   1755\u001b[0m \u001b[39mwhile\u001b[39;00m rc \u001b[39m==\u001b[39m MQTT_ERR_SUCCESS:\n\u001b[1;32m-> 1756\u001b[0m     rc \u001b[39m=\u001b[39m \u001b[39mself\u001b[39;49m\u001b[39m.\u001b[39;49m_loop(timeout)\n\u001b[0;32m   1757\u001b[0m     \u001b[39m# We don't need to worry about locking here, because we've\u001b[39;00m\n\u001b[0;32m   1758\u001b[0m     \u001b[39m# either called loop_forever() when in single threaded mode, or\u001b[39;00m\n\u001b[0;32m   1759\u001b[0m     \u001b[39m# in multi threaded mode when loop_stop() has been called and\u001b[39;00m\n\u001b[0;32m   1760\u001b[0m     \u001b[39m# so no other threads can access _out_packet or _messages.\u001b[39;00m\n\u001b[0;32m   1761\u001b[0m     \u001b[39mif\u001b[39;00m (\u001b[39mself\u001b[39m\u001b[39m.\u001b[39m_thread_terminate \u001b[39mis\u001b[39;00m \u001b[39mTrue\u001b[39;00m\n\u001b[0;32m   1762\u001b[0m         \u001b[39mand\u001b[39;00m \u001b[39mlen\u001b[39m(\u001b[39mself\u001b[39m\u001b[39m.\u001b[39m_out_packet) \u001b[39m==\u001b[39m \u001b[39m0\u001b[39m\n\u001b[0;32m   1763\u001b[0m             \u001b[39mand\u001b[39;00m \u001b[39mlen\u001b[39m(\u001b[39mself\u001b[39m\u001b[39m.\u001b[39m_out_messages) \u001b[39m==\u001b[39m \u001b[39m0\u001b[39m):\n",
      "File \u001b[1;32mc:\\Users\\KIA\\AppData\\Local\\Programs\\Python\\Python312\\Lib\\site-packages\\paho\\mqtt\\client.py:1150\u001b[0m, in \u001b[0;36mClient._loop\u001b[1;34m(self, timeout)\u001b[0m\n\u001b[0;32m   1147\u001b[0m     rlist \u001b[39m=\u001b[39m [\u001b[39mself\u001b[39m\u001b[39m.\u001b[39m_sock, \u001b[39mself\u001b[39m\u001b[39m.\u001b[39m_sockpairR]\n\u001b[0;32m   1149\u001b[0m \u001b[39mtry\u001b[39;00m:\n\u001b[1;32m-> 1150\u001b[0m     socklist \u001b[39m=\u001b[39m select\u001b[39m.\u001b[39;49mselect(rlist, wlist, [], timeout)\n\u001b[0;32m   1151\u001b[0m \u001b[39mexcept\u001b[39;00m \u001b[39mTypeError\u001b[39;00m:\n\u001b[0;32m   1152\u001b[0m     \u001b[39m# Socket isn't correct type, in likelihood connection is lost\u001b[39;00m\n\u001b[0;32m   1153\u001b[0m     \u001b[39mreturn\u001b[39;00m MQTT_ERR_CONN_LOST\n",
      "\u001b[1;31mKeyboardInterrupt\u001b[0m: "
     ]
    }
   ],
   "source": [
    "subscribe_client = subscribe_connect_mqtt()\n",
    "subscribe(subscribe_client)\n",
    "subscribe_client.loop_forever()"
   ]
  }
 ],
 "metadata": {
  "kernelspec": {
   "display_name": "Python 3",
   "language": "python",
   "name": "python3"
  },
  "language_info": {
   "codemirror_mode": {
    "name": "ipython",
    "version": 3
   },
   "file_extension": ".py",
   "mimetype": "text/x-python",
   "name": "python",
   "nbconvert_exporter": "python",
   "pygments_lexer": "ipython3",
   "version": "3.12.0"
  }
 },
 "nbformat": 4,
 "nbformat_minor": 2
}
