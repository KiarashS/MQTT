{
 "cells": [
  {
   "cell_type": "code",
   "execution_count": null,
   "metadata": {},
   "outputs": [],
   "source": [
    "#pip3 install paho-mqtt"
   ]
  },
  {
   "cell_type": "markdown",
   "metadata": {},
   "source": [
    "# Import the Paho MQTT Client"
   ]
  },
  {
   "cell_type": "code",
   "execution_count": null,
   "metadata": {},
   "outputs": [],
   "source": [
    "# python 3.12.0\n",
    "\n",
    "import random\n",
    "import time\n",
    "\n",
    "from paho.mqtt import client as mqtt_client\n"
   ]
  },
  {
   "cell_type": "markdown",
   "metadata": {},
   "source": [
    "The accessing information of the broker is as follows:\n",
    "\n",
    "Broker: broker.emqx.io\n",
    "\n",
    "TCP Port: 1883\n",
    "\n",
    "Websocket Port: 8083"
   ]
  },
  {
   "cell_type": "markdown",
   "metadata": {},
   "source": [
    "# Set the Parameter of MQTT Broker Connection\n",
    "Set the address, port and topic of MQTT Broker connection. At the same time, we call the Python function `random.randint` to randomly generate the MQTT client id."
   ]
  },
  {
   "cell_type": "code",
   "execution_count": null,
   "metadata": {},
   "outputs": [],
   "source": [
    "broker = 'broker.emqx.io'\n",
    "port = 1883\n",
    "topic = \"/Kiarash/mqtt\"\n",
    "client_id = f'Kiarash-mqtt-{random.randint(0, 100)}'\n",
    "username = 'emqx'\n",
    "password = 'public'"
   ]
  },
  {
   "cell_type": "markdown",
   "metadata": {},
   "source": [
    "# Write the MQTT Connect Function\n",
    "Write the connect callback function `on_connect`. This function will be called after connecting the client, and we can determine whether the client is connected successfully according to `rc` in this function. Usually, we will create an MQTT client at the same time and this client will connect to `broker.emqx.io`.\n"
   ]
  },
  {
   "cell_type": "code",
   "execution_count": null,
   "metadata": {},
   "outputs": [],
   "source": [
    "def subscribe_connect_mqtt() -> mqtt_client:\n",
    "    def on_connect(client, userdata, flags, rc):\n",
    "        if rc == 0:\n",
    "            print(\"Connected to MQTT Broker!\")\n",
    "        else:\n",
    "            print(\"Failed to connect, return code %d\\n\", rc)\n",
    "\n",
    "    client = mqtt_client.Client(client_id)\n",
    "    client.username_pw_set(username, password)\n",
    "    client.on_connect = on_connect\n",
    "    client.connect(broker, port)\n",
    "    return client"
   ]
  },
  {
   "cell_type": "markdown",
   "metadata": {},
   "source": [
    "# Subscribe\n",
    "Write the message callback function `on_message`. This function will be called after the client received messages from the MQTT Broker. In this function, we will print out the name of subscribed topics and the received messages."
   ]
  },
  {
   "cell_type": "code",
   "execution_count": null,
   "metadata": {},
   "outputs": [],
   "source": [
    "def subscribe(client: mqtt_client):\n",
    "    def on_message(client, userdata, msg):\n",
    "        print(f\"Received `{msg.payload.decode()}` from `{msg.topic}` topic\")\n",
    "\n",
    "    client.subscribe(topic)\n",
    "    client.on_message = on_message"
   ]
  },
  {
   "cell_type": "code",
   "execution_count": null,
   "metadata": {},
   "outputs": [],
   "source": [
    "subscribe_client = subscribe_connect_mqtt()\n",
    "subscribe(subscribe_client)\n",
    "subscribe_client.loop_forever()"
   ]
  }
 ],
 "metadata": {
  "kernelspec": {
   "display_name": "Python 3",
   "language": "python",
   "name": "python3"
  },
  "language_info": {
   "codemirror_mode": {
    "name": "ipython",
    "version": 3
   },
   "file_extension": ".py",
   "mimetype": "text/x-python",
   "name": "python",
   "nbconvert_exporter": "python",
   "pygments_lexer": "ipython3",
   "version": "3.12.0"
  }
 },
 "nbformat": 4,
 "nbformat_minor": 2
}
