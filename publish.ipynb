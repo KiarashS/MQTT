{
 "cells": [
  {
   "cell_type": "code",
   "execution_count": 1,
   "metadata": {},
   "outputs": [],
   "source": [
    "#pip3 install paho-mqtt"
   ]
  },
  {
   "cell_type": "markdown",
   "metadata": {},
   "source": [
    "# Import the Paho MQTT Client"
   ]
  },
  {
   "cell_type": "code",
   "execution_count": 2,
   "metadata": {},
   "outputs": [],
   "source": [
    "# python 3.12.0\n",
    "\n",
    "import random\n",
    "import time\n",
    "\n",
    "from paho.mqtt import client as mqtt_client\n"
   ]
  },
  {
   "cell_type": "markdown",
   "metadata": {},
   "source": [
    "The accessing information of the broker is as follows:\n",
    "\n",
    "Broker: broker.emqx.io\n",
    "\n",
    "TCP Port: 1883\n",
    "\n",
    "Websocket Port: 8083"
   ]
  },
  {
   "cell_type": "markdown",
   "metadata": {},
   "source": [
    "# Set the Parameter of MQTT Broker Connection\n",
    "Set the address, port and topic of MQTT Broker connection. At the same time, we call the Python function `random.randint` to randomly generate the MQTT client id."
   ]
  },
  {
   "cell_type": "code",
   "execution_count": 3,
   "metadata": {},
   "outputs": [],
   "source": [
    "broker = 'broker.emqx.io'\n",
    "port = 1883\n",
    "topic = \"/Kiarash/mqtt\"\n",
    "client_id = f'Kiarash-mqtt-{random.randint(0, 1000)}'\n",
    "username = 'emqx'\n",
    "password = 'public'"
   ]
  },
  {
   "cell_type": "markdown",
   "metadata": {},
   "source": [
    "# Write the MQTT Connect Function\n",
    "Write the connect callback function `on_connect`. This function will be called after connecting the client, and we can determine whether the client is connected successfully according to `rc` in this function. Usually, we will create an MQTT client at the same time and this client will connect to `broker.emqx.io`.\n"
   ]
  },
  {
   "cell_type": "code",
   "execution_count": 4,
   "metadata": {},
   "outputs": [],
   "source": [
    "def connect_mqtt():\n",
    "    def on_connect(client, userdata, flags, rc):\n",
    "        if rc == 0:\n",
    "            print(\"Connected to MQTT Broker!\")\n",
    "        else:\n",
    "            print(\"Failed to connect, return code %d\\n\", rc)\n",
    "    # Set Connecting Client ID\n",
    "    client = mqtt_client.Client(client_id)\n",
    "    client.username_pw_set(username, password)\n",
    "    client.on_connect = on_connect\n",
    "    client.connect(broker, port)\n",
    "    return client"
   ]
  },
  {
   "cell_type": "markdown",
   "metadata": {},
   "source": [
    "# Publish Messages\n",
    "First, we define a while loop. In this loop, and we will set the MQTT client `publish` function to send messages to the topic `/Kiarash/mqtt` every second.\n"
   ]
  },
  {
   "cell_type": "code",
   "execution_count": 5,
   "metadata": {},
   "outputs": [],
   "source": [
    "def publish(client):\n",
    "    msg_count = 0\n",
    "    while True:\n",
    "        time.sleep(1)\n",
    "        msg = f\"messages: {msg_count}\"\n",
    "        result = client.publish(topic, msg)\n",
    "        # result: [0, 1]\n",
    "        status = result[0]\n",
    "        if status == 0:\n",
    "            print(f\"Send `{msg}` to topic `{topic}`\")\n",
    "        else:\n",
    "            print(f\"Failed to send message to topic {topic}\")\n",
    "        msg_count += 1"
   ]
  },
  {
   "cell_type": "code",
   "execution_count": 6,
   "metadata": {},
   "outputs": [
    {
     "name": "stdout",
     "output_type": "stream",
     "text": [
      "Connected to MQTT Broker!\n",
      "Send `messages: 0` to topic `/Kiarash/mqtt`\n",
      "Send `messages: 1` to topic `/Kiarash/mqtt`\n",
      "Send `messages: 2` to topic `/Kiarash/mqtt`\n",
      "Send `messages: 3` to topic `/Kiarash/mqtt`\n",
      "Send `messages: 4` to topic `/Kiarash/mqtt`\n",
      "Send `messages: 5` to topic `/Kiarash/mqtt`\n",
      "Send `messages: 6` to topic `/Kiarash/mqtt`\n",
      "Send `messages: 7` to topic `/Kiarash/mqtt`\n",
      "Send `messages: 8` to topic `/Kiarash/mqtt`\n",
      "Send `messages: 9` to topic `/Kiarash/mqtt`\n",
      "Send `messages: 10` to topic `/Kiarash/mqtt`\n",
      "Send `messages: 11` to topic `/Kiarash/mqtt`\n",
      "Send `messages: 12` to topic `/Kiarash/mqtt`\n"
     ]
    },
    {
     "ename": "KeyboardInterrupt",
     "evalue": "",
     "output_type": "error",
     "traceback": [
      "\u001b[1;31m---------------------------------------------------------------------------\u001b[0m",
      "\u001b[1;31mKeyboardInterrupt\u001b[0m                         Traceback (most recent call last)",
      "\u001b[1;32md:\\My Work\\Projects\\MQTT\\publish.ipynb Cell 11\u001b[0m line \u001b[0;36m3\n\u001b[0;32m      <a href='vscode-notebook-cell:/d%3A/My%20Work/Projects/MQTT/publish.ipynb#X13sZmlsZQ%3D%3D?line=0'>1</a>\u001b[0m publish_client \u001b[39m=\u001b[39m connect_mqtt()\n\u001b[0;32m      <a href='vscode-notebook-cell:/d%3A/My%20Work/Projects/MQTT/publish.ipynb#X13sZmlsZQ%3D%3D?line=1'>2</a>\u001b[0m publish_client\u001b[39m.\u001b[39mloop_start()\n\u001b[1;32m----> <a href='vscode-notebook-cell:/d%3A/My%20Work/Projects/MQTT/publish.ipynb#X13sZmlsZQ%3D%3D?line=2'>3</a>\u001b[0m publish(publish_client)\n",
      "\u001b[1;32md:\\My Work\\Projects\\MQTT\\publish.ipynb Cell 11\u001b[0m line \u001b[0;36m4\n\u001b[0;32m      <a href='vscode-notebook-cell:/d%3A/My%20Work/Projects/MQTT/publish.ipynb#X13sZmlsZQ%3D%3D?line=1'>2</a>\u001b[0m msg_count \u001b[39m=\u001b[39m \u001b[39m0\u001b[39m\n\u001b[0;32m      <a href='vscode-notebook-cell:/d%3A/My%20Work/Projects/MQTT/publish.ipynb#X13sZmlsZQ%3D%3D?line=2'>3</a>\u001b[0m \u001b[39mwhile\u001b[39;00m \u001b[39mTrue\u001b[39;00m:\n\u001b[1;32m----> <a href='vscode-notebook-cell:/d%3A/My%20Work/Projects/MQTT/publish.ipynb#X13sZmlsZQ%3D%3D?line=3'>4</a>\u001b[0m     time\u001b[39m.\u001b[39;49msleep(\u001b[39m1\u001b[39;49m)\n\u001b[0;32m      <a href='vscode-notebook-cell:/d%3A/My%20Work/Projects/MQTT/publish.ipynb#X13sZmlsZQ%3D%3D?line=4'>5</a>\u001b[0m     msg \u001b[39m=\u001b[39m \u001b[39mf\u001b[39m\u001b[39m\"\u001b[39m\u001b[39mmessages: \u001b[39m\u001b[39m{\u001b[39;00mmsg_count\u001b[39m}\u001b[39;00m\u001b[39m\"\u001b[39m\n\u001b[0;32m      <a href='vscode-notebook-cell:/d%3A/My%20Work/Projects/MQTT/publish.ipynb#X13sZmlsZQ%3D%3D?line=5'>6</a>\u001b[0m     result \u001b[39m=\u001b[39m client\u001b[39m.\u001b[39mpublish(topic, msg)\n",
      "\u001b[1;31mKeyboardInterrupt\u001b[0m: "
     ]
    }
   ],
   "source": [
    "publish_client = connect_mqtt()\n",
    "publish_client.loop_start()\n",
    "publish(publish_client)"
   ]
  }
 ],
 "metadata": {
  "kernelspec": {
   "display_name": "Python 3",
   "language": "python",
   "name": "python3"
  },
  "language_info": {
   "codemirror_mode": {
    "name": "ipython",
    "version": 3
   },
   "file_extension": ".py",
   "mimetype": "text/x-python",
   "name": "python",
   "nbconvert_exporter": "python",
   "pygments_lexer": "ipython3",
   "version": "3.12.0"
  }
 },
 "nbformat": 4,
 "nbformat_minor": 2
}
